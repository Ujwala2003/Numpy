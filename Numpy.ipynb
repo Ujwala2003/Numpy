{
  "nbformat": 4,
  "nbformat_minor": 0,
  "metadata": {
    "colab": {
      "name": "Numpy.ipynb",
      "provenance": [],
      "collapsed_sections": [],
      "authorship_tag": "ABX9TyO2n2qA9jEeDxHrpWsEcGCd",
      "include_colab_link": true
    },
    "kernelspec": {
      "name": "python3",
      "display_name": "Python 3"
    },
    "language_info": {
      "name": "python"
    }
  },
  "cells": [
    {
      "cell_type": "markdown",
      "metadata": {
        "id": "view-in-github",
        "colab_type": "text"
      },
      "source": [
        "<a href=\"https://colab.research.google.com/github/Ujwala2003/Numpy/blob/main/Numpy.ipynb\" target=\"_parent\"><img src=\"https://colab.research.google.com/assets/colab-badge.svg\" alt=\"Open In Colab\"/></a>"
      ]
    },
    {
      "cell_type": "markdown",
      "metadata": {
        "id": "Zk6QshiYduGs"
      },
      "source": [
        "We first import numpy under the name np using the **import numpy as np** command."
      ]
    },
    {
      "cell_type": "code",
      "metadata": {
        "id": "0A6pPYbAc4lA"
      },
      "source": [
        "import numpy as np"
      ],
      "execution_count": 3,
      "outputs": []
    },
    {
      "cell_type": "markdown",
      "metadata": {
        "id": "5GmvlYkZeIlD"
      },
      "source": [
        "We create arrays in numpy using lists."
      ]
    },
    {
      "cell_type": "code",
      "metadata": {
        "colab": {
          "base_uri": "https://localhost:8080/"
        },
        "id": "138CWI03eMm0",
        "outputId": "10e3851f-3ae4-4272-9a5c-85efaa5dcfcf"
      },
      "source": [
        "a=[1,2,3,4,5]\n",
        "print(a)"
      ],
      "execution_count": 6,
      "outputs": [
        {
          "output_type": "stream",
          "text": [
            "[1, 2, 3, 4, 5]\n"
          ],
          "name": "stdout"
        }
      ]
    },
    {
      "cell_type": "markdown",
      "metadata": {
        "id": "4it0tj7bexzt"
      },
      "source": [
        "Converting a list into numpy array is done using np.array()"
      ]
    },
    {
      "cell_type": "code",
      "metadata": {
        "colab": {
          "base_uri": "https://localhost:8080/"
        },
        "id": "ZEREmpSfe-Dm",
        "outputId": "0c8e8d80-db13-411d-bd6f-1397d4924170"
      },
      "source": [
        "numpyarray=np.array(a)\n",
        "print(numpyarray)"
      ],
      "execution_count": 7,
      "outputs": [
        {
          "output_type": "stream",
          "text": [
            "[1 2 3 4 5]\n"
          ],
          "name": "stdout"
        }
      ]
    },
    {
      "cell_type": "markdown",
      "metadata": {
        "id": "l7f-aTlAfRY7"
      },
      "source": [
        "The version of numpy can be checked using  __version __."
      ]
    },
    {
      "cell_type": "code",
      "metadata": {
        "colab": {
          "base_uri": "https://localhost:8080/"
        },
        "id": "DdzRxG6pfY96",
        "outputId": "dd6882db-1210-419f-a428-f8eaed3ff06f"
      },
      "source": [
        "print(np.__version__)"
      ],
      "execution_count": 9,
      "outputs": [
        {
          "output_type": "stream",
          "text": [
            "1.19.5\n"
          ],
          "name": "stdout"
        }
      ]
    },
    {
      "cell_type": "markdown",
      "metadata": {
        "id": "A-I89uudgHan"
      },
      "source": [
        "Shape of the array can be checked using the below command:"
      ]
    },
    {
      "cell_type": "code",
      "metadata": {
        "colab": {
          "base_uri": "https://localhost:8080/"
        },
        "id": "Wqp6V5tbgRX1",
        "outputId": "4d4d3ce1-6141-40f0-d522-ac3cd5bc0da2"
      },
      "source": [
        "arr=np.array([8,2,5,6,9])\n",
        "print(arr.shape)"
      ],
      "execution_count": 11,
      "outputs": [
        {
          "output_type": "stream",
          "text": [
            "(5,)\n"
          ],
          "name": "stdout"
        }
      ]
    },
    {
      "cell_type": "markdown",
      "metadata": {
        "id": "xnnW-hsAgfSe"
      },
      "source": [
        "The datatype of the objects in array is found using arrayname.dtype"
      ]
    },
    {
      "cell_type": "code",
      "metadata": {
        "colab": {
          "base_uri": "https://localhost:8080/"
        },
        "id": "Y8SCOAZMguUO",
        "outputId": "1d80043d-b64d-43c0-e542-8826d9569f17"
      },
      "source": [
        "x=np.array([1.0,2.6,3.2,1.7])\n",
        "print(x.dtype)"
      ],
      "execution_count": 15,
      "outputs": [
        {
          "output_type": "stream",
          "text": [
            "float64\n"
          ],
          "name": "stdout"
        }
      ]
    },
    {
      "cell_type": "markdown",
      "metadata": {
        "id": "cLdsMyJ4haZX"
      },
      "source": [
        "A 3-dimensional array:"
      ]
    },
    {
      "cell_type": "code",
      "metadata": {
        "colab": {
          "base_uri": "https://localhost:8080/"
        },
        "id": "N0LAjtjkhdjq",
        "outputId": "db9cc5e2-d97f-4a32-b215-6b86f8c2f58c"
      },
      "source": [
        "m = np.array([\n",
        "    [[2,3,4],\n",
        "        [3,5,6]],\n",
        "    [[5,3,7,],\n",
        "        [19,12,11]]\n",
        "])\n",
        "print(m.shape)\n",
        "print(m.dtype)"
      ],
      "execution_count": 16,
      "outputs": [
        {
          "output_type": "stream",
          "text": [
            "(2, 2, 3)\n",
            "int64\n"
          ],
          "name": "stdout"
        }
      ]
    },
    {
      "cell_type": "markdown",
      "metadata": {
        "id": "H3H0ZYAUiCfE"
      },
      "source": [
        "The dimensions of an array can be found using **arrayname.ndim**"
      ]
    },
    {
      "cell_type": "code",
      "metadata": {
        "colab": {
          "base_uri": "https://localhost:8080/"
        },
        "id": "TvH6XZIaiOZw",
        "outputId": "277bf311-1886-47f5-9e21-00c83cf2bf77"
      },
      "source": [
        "print(m.ndim)\n",
        "print(x.ndim)"
      ],
      "execution_count": 17,
      "outputs": [
        {
          "output_type": "stream",
          "text": [
            "3\n",
            "1\n"
          ],
          "name": "stdout"
        }
      ]
    },
    {
      "cell_type": "markdown",
      "metadata": {
        "id": "6j_oaeF0kunl"
      },
      "source": [
        "Creating arrays with all zeroes using numpy.zeros()."
      ]
    },
    {
      "cell_type": "code",
      "metadata": {
        "colab": {
          "base_uri": "https://localhost:8080/"
        },
        "id": "e0lJxZLlk5bV",
        "outputId": "e310d450-8fae-4693-b822-4f32fb70f754"
      },
      "source": [
        "a=np.zeros((2,2,1),dtype=np.int64)\n",
        "print(a)"
      ],
      "execution_count": 19,
      "outputs": [
        {
          "output_type": "stream",
          "text": [
            "[[[0]\n",
            "  [0]]\n",
            "\n",
            " [[0]\n",
            "  [0]]]\n"
          ],
          "name": "stdout"
        }
      ]
    },
    {
      "cell_type": "markdown",
      "metadata": {
        "id": "JUwIxZ6nlSgD"
      },
      "source": [
        "Creating arrays with all zeroes using numpy.ones()"
      ]
    },
    {
      "cell_type": "code",
      "metadata": {
        "colab": {
          "base_uri": "https://localhost:8080/"
        },
        "id": "2u2KLc78lW0n",
        "outputId": "4ec55e99-b311-4235-ec0b-0f7e35bd8e80"
      },
      "source": [
        "a=np.ones((2,2,1),dtype=np.int64)\n",
        "print(a)"
      ],
      "execution_count": 20,
      "outputs": [
        {
          "output_type": "stream",
          "text": [
            "[[[1]\n",
            "  [1]]\n",
            "\n",
            " [[1]\n",
            "  [1]]]\n"
          ],
          "name": "stdout"
        }
      ]
    },
    {
      "cell_type": "markdown",
      "metadata": {
        "id": "qd0dnLZTnlrn"
      },
      "source": [
        "We can reshape an array using reshape().We can give the new shape in brackets."
      ]
    },
    {
      "cell_type": "code",
      "metadata": {
        "colab": {
          "base_uri": "https://localhost:8080/"
        },
        "id": "--O8xr8jnmo3",
        "outputId": "40da5b43-b267-419e-d537-1fb52fd78c01"
      },
      "source": [
        "arr=np.array([1, 2, 3, 4, 5, 6, 7, 8, 9, 10, 11, 12])\n",
        "arr1=arr.reshape(2,2,3)\n",
        "print(arr1)"
      ],
      "execution_count": 21,
      "outputs": [
        {
          "output_type": "stream",
          "text": [
            "[[[ 1  2  3]\n",
            "  [ 4  5  6]]\n",
            "\n",
            " [[ 7  8  9]\n",
            "  [10 11 12]]]\n"
          ],
          "name": "stdout"
        }
      ]
    },
    {
      "cell_type": "markdown",
      "metadata": {
        "id": "6Gz8p5WHo_M-"
      },
      "source": [
        "Flattening the array can be done using flatten()"
      ]
    },
    {
      "cell_type": "code",
      "metadata": {
        "colab": {
          "base_uri": "https://localhost:8080/"
        },
        "id": "MzhexvvnpH3c",
        "outputId": "128b4259-f844-41ec-f53e-1c6c7c290f87"
      },
      "source": [
        "arr2=arr1.flatten()\n",
        "print(arr2)"
      ],
      "execution_count": 22,
      "outputs": [
        {
          "output_type": "stream",
          "text": [
            "[ 1  2  3  4  5  6  7  8  9 10 11 12]\n"
          ],
          "name": "stdout"
        }
      ]
    },
    {
      "cell_type": "markdown",
      "metadata": {
        "id": "hvOHq4D7pWR6"
      },
      "source": [
        "Data can be horizontally appended using hstack and vertically appended using vstack."
      ]
    },
    {
      "cell_type": "code",
      "metadata": {
        "colab": {
          "base_uri": "https://localhost:8080/"
        },
        "id": "oFrFiqjKpk_G",
        "outputId": "3a511ff0-026c-4d23-8198-f70aef901505"
      },
      "source": [
        "a = np.array([1,3,2,19])\n",
        "b = np.array([2,11,7,9])\n",
        "c = np.array([3,4,5,7])\n",
        "print('Horizontally Appended--' , np.hstack((a,b,c)))"
      ],
      "execution_count": 31,
      "outputs": [
        {
          "output_type": "stream",
          "text": [
            "Horizontally Appended-- [ 1  3  2 19  2 11  7  9  3  4  5  7]\n"
          ],
          "name": "stdout"
        }
      ]
    },
    {
      "cell_type": "code",
      "metadata": {
        "colab": {
          "base_uri": "https://localhost:8080/"
        },
        "id": "iRrDeNF6rZdQ",
        "outputId": "51b49183-8ef6-4807-927f-6f84e4bd4bad"
      },
      "source": [
        "a = np.array([1,3,2,19])\n",
        "b = np.array([2,11,7,9])\n",
        "c = np.array([3,4,5,7])\n",
        "print('Vertically Appended--' , np.vstack((a,b,c)))"
      ],
      "execution_count": 32,
      "outputs": [
        {
          "output_type": "stream",
          "text": [
            "Vertically Appended-- [[ 1  3  2 19]\n",
            " [ 2 11  7  9]\n",
            " [ 3  4  5  7]]\n"
          ],
          "name": "stdout"
        }
      ]
    },
    {
      "cell_type": "markdown",
      "metadata": {
        "id": "aMrKcPp_rkqc"
      },
      "source": [
        "Random numbers can be generated using np.random.normal(loc, scale, size)"
      ]
    },
    {
      "cell_type": "code",
      "metadata": {
        "colab": {
          "base_uri": "https://localhost:8080/"
        },
        "id": "G7Ir1HMWr0ua",
        "outputId": "d872da28-e2d3-4c21-98cf-182c3aebc9fb"
      },
      "source": [
        "array=np.random.normal(8,0.2,15)\n",
        "print(array)"
      ],
      "execution_count": 34,
      "outputs": [
        {
          "output_type": "stream",
          "text": [
            "[8.00360669 7.92904738 7.99034561 7.83393603 8.32991945 7.91682012\n",
            " 8.36902851 8.06221627 7.94336373 7.91732416 8.02105751 8.04760498\n",
            " 8.26803088 8.02647829 8.02781979]\n"
          ],
          "name": "stdout"
        }
      ]
    },
    {
      "cell_type": "markdown",
      "metadata": {
        "id": "dB-hokpdsJAx"
      },
      "source": [
        "To create an array with constantly spaced values, use np.arange(start, stop,step)[If step isn't give it takes default value 1]\n"
      ]
    },
    {
      "cell_type": "code",
      "metadata": {
        "colab": {
          "base_uri": "https://localhost:8080/"
        },
        "id": "A74obdIRscsP",
        "outputId": "a22d9cf2-491a-4ac0-9863-eae82c907fc1"
      },
      "source": [
        "np.arange(5,15,3)"
      ],
      "execution_count": 36,
      "outputs": [
        {
          "output_type": "execute_result",
          "data": {
            "text/plain": [
              "array([ 5,  8, 11, 14])"
            ]
          },
          "metadata": {
            "tags": []
          },
          "execution_count": 36
        }
      ]
    },
    {
      "cell_type": "code",
      "metadata": {
        "colab": {
          "base_uri": "https://localhost:8080/"
        },
        "id": "-RCWhC66stg1",
        "outputId": "a5d46524-07d2-4620-8827-00d53f021eba"
      },
      "source": [
        "np.arange(2,10)"
      ],
      "execution_count": 37,
      "outputs": [
        {
          "output_type": "execute_result",
          "data": {
            "text/plain": [
              "array([2, 3, 4, 5, 6, 7, 8, 9])"
            ]
          },
          "metadata": {
            "tags": []
          },
          "execution_count": 37
        }
      ]
    },
    {
      "cell_type": "markdown",
      "metadata": {
        "id": "kAtYpM-Rs0gS"
      },
      "source": [
        "Accesing rows and columns of an array by slicing:"
      ]
    },
    {
      "cell_type": "code",
      "metadata": {
        "colab": {
          "base_uri": "https://localhost:8080/"
        },
        "id": "0KoE-nFjtWxt",
        "outputId": "39e7ec98-af84-4e6a-c3e1-6ddcd2d37034"
      },
      "source": [
        "a =np.array([(1,2,3), (4,5,6) , (7,8,9)])\n",
        "print(a)"
      ],
      "execution_count": 39,
      "outputs": [
        {
          "output_type": "stream",
          "text": [
            "[[1 2 3]\n",
            " [4 5 6]\n",
            " [7 8 9]]\n"
          ],
          "name": "stdout"
        }
      ]
    },
    {
      "cell_type": "code",
      "metadata": {
        "colab": {
          "base_uri": "https://localhost:8080/"
        },
        "id": "aeU7yr1lthA_",
        "outputId": "aa467a8d-778d-4e34-d28f-d70aa823aeef"
      },
      "source": [
        "print('ROW 2-' , a[1])"
      ],
      "execution_count": 41,
      "outputs": [
        {
          "output_type": "stream",
          "text": [
            "ROW 2- [4 5 6]\n"
          ],
          "name": "stdout"
        }
      ]
    },
    {
      "cell_type": "code",
      "metadata": {
        "colab": {
          "base_uri": "https://localhost:8080/"
        },
        "id": "-XBv50Q9tslA",
        "outputId": "c39f19fb-51af-40f6-dba3-778f48730db7"
      },
      "source": [
        "print('COLUMN 3-' , a[:,2])"
      ],
      "execution_count": 44,
      "outputs": [
        {
          "output_type": "stream",
          "text": [
            "COLUMN 3- [3 6 9]\n"
          ],
          "name": "stdout"
        }
      ]
    },
    {
      "cell_type": "markdown",
      "metadata": {
        "id": "xsIs3PAWt85G"
      },
      "source": [
        "Finding maximum,minimum,mean,median,standard devation of an array:"
      ]
    },
    {
      "cell_type": "code",
      "metadata": {
        "colab": {
          "base_uri": "https://localhost:8080/"
        },
        "id": "KphG55rBuWxg",
        "outputId": "cf010e8b-f48c-46ed-9480-03001aa81576"
      },
      "source": [
        "x=np.array([2,3,32,21,33,12,33,11])\n",
        "print(np.max(x))\n",
        "print(np.min(x))\n",
        "print(np.mean(x))\n",
        "print(np.median(x))\n",
        "print(np.std(x))\n"
      ],
      "execution_count": 47,
      "outputs": [
        {
          "output_type": "stream",
          "text": [
            "33\n",
            "2\n",
            "18.375\n",
            "16.5\n",
            "12.348456381264826\n"
          ],
          "name": "stdout"
        }
      ]
    },
    {
      "cell_type": "markdown",
      "metadata": {
        "id": "NkYI6xHWuvfK"
      },
      "source": [
        "Dot product of 2 arrays can be found using np.dot().Input arrays must be 1-D or 2-D"
      ]
    },
    {
      "cell_type": "code",
      "metadata": {
        "colab": {
          "base_uri": "https://localhost:8080/"
        },
        "id": "dHWQ1bj7vjpF",
        "outputId": "53213ae1-48ec-4c4c-b64c-98374e6df5f5"
      },
      "source": [
        "a=np.array([2,8,5])\n",
        "b=np.array([5,2,2])\n",
        "np.dot(a,b)"
      ],
      "execution_count": 48,
      "outputs": [
        {
          "output_type": "execute_result",
          "data": {
            "text/plain": [
              "36"
            ]
          },
          "metadata": {
            "tags": []
          },
          "execution_count": 48
        }
      ]
    },
    {
      "cell_type": "markdown",
      "metadata": {
        "id": "aIq2DUB-v51V"
      },
      "source": [
        "Matrix Product of 2 arrays can be found using matmul() \n",
        "1) 2-D arrays, it returns normal product\n",
        "\n",
        "2) Dimensions > 2, the product is treated as a stack of matrix\n",
        "\n",
        "3) 1-D array is first promoted to a matrix, and then the product is calculated"
      ]
    },
    {
      "cell_type": "code",
      "metadata": {
        "colab": {
          "base_uri": "https://localhost:8080/"
        },
        "id": "tqAa_IeVwgbe",
        "outputId": "47c391cb-d063-42ff-c260-c360e42580f3"
      },
      "source": [
        "mat1=[[4,5,6],[3,2,1],[1,3,7]]\n",
        "mat2=[[10,2,3],[4,6,4],[8,3,4]]\n",
        "np.matmul(mat1,mat2)"
      ],
      "execution_count": 49,
      "outputs": [
        {
          "output_type": "execute_result",
          "data": {
            "text/plain": [
              "array([[108,  56,  56],\n",
              "       [ 46,  21,  21],\n",
              "       [ 78,  41,  43]])"
            ]
          },
          "metadata": {
            "tags": []
          },
          "execution_count": 49
        }
      ]
    },
    {
      "cell_type": "markdown",
      "metadata": {
        "id": "tI0VqCeIxR59"
      },
      "source": [
        "Inverse of a matrix can be found using np.linalg.inv()"
      ]
    },
    {
      "cell_type": "code",
      "metadata": {
        "colab": {
          "base_uri": "https://localhost:8080/"
        },
        "id": "jsv-n9VS00WX",
        "outputId": "5291699c-6117-4f7d-87c6-11159e01e7f4"
      },
      "source": [
        "mat=[[4,5,6],[3,2,1],[1,3,7]]\n",
        "print(np.linalg.inv(mat))"
      ],
      "execution_count": 50,
      "outputs": [
        {
          "output_type": "stream",
          "text": [
            "[[-0.78571429  1.21428571  0.5       ]\n",
            " [ 1.42857143 -1.57142857 -1.        ]\n",
            " [-0.5         0.5         0.5       ]]\n"
          ],
          "name": "stdout"
        }
      ]
    },
    {
      "cell_type": "markdown",
      "metadata": {
        "id": "QhjkMVPy1GxR"
      },
      "source": [
        "Findind determinant of a matrix"
      ]
    },
    {
      "cell_type": "code",
      "metadata": {
        "colab": {
          "base_uri": "https://localhost:8080/"
        },
        "id": "fIoKx1iH1KES",
        "outputId": "43e3f822-cf25-423b-90fd-c66e2b9ca887"
      },
      "source": [
        "mat=[[4,5,6],[3,2,1],[1,3,7]]\n",
        "det = np.linalg.det(mat)\n",
        "print(int(det))"
      ],
      "execution_count": 51,
      "outputs": [
        {
          "output_type": "stream",
          "text": [
            "-13\n"
          ],
          "name": "stdout"
        }
      ]
    },
    {
      "cell_type": "markdown",
      "metadata": {
        "id": "2PAV1-1L1U5S"
      },
      "source": [
        "Finding the rank of matrix"
      ]
    },
    {
      "cell_type": "code",
      "metadata": {
        "colab": {
          "base_uri": "https://localhost:8080/"
        },
        "id": "MUOvwY9d1ba2",
        "outputId": "2a0d0c81-d5ea-41c9-dbe0-7f988765863c"
      },
      "source": [
        "mat=[[4,5,6],[3,2,1],[1,3,7]]\n",
        "np.linalg.matrix_rank(mat)"
      ],
      "execution_count": 52,
      "outputs": [
        {
          "output_type": "execute_result",
          "data": {
            "text/plain": [
              "3"
            ]
          },
          "metadata": {
            "tags": []
          },
          "execution_count": 52
        }
      ]
    },
    {
      "cell_type": "markdown",
      "metadata": {
        "id": "eW_ytQ7m1g7u"
      },
      "source": [
        "Eigen values and eigen vectors of a matrix can be found using np.linalg.eig()"
      ]
    },
    {
      "cell_type": "code",
      "metadata": {
        "colab": {
          "base_uri": "https://localhost:8080/"
        },
        "id": "dTtARAf21x5S",
        "outputId": "b447a216-361a-43ff-8214-0da70e222e6b"
      },
      "source": [
        "mat=[[2,4,5],[1,5,7],[9,4,2]]\n",
        "eigenvalues, eigenvectors=np.linalg.eig(mat)\n",
        "print(eigenvalues, eigenvectors)"
      ],
      "execution_count": 54,
      "outputs": [
        {
          "output_type": "stream",
          "text": [
            "[-4.01485615 -0.05716216 13.07201831] [[ 0.2637574  -0.23211519 -0.49898311]\n",
            " [ 0.57316926  0.80389169 -0.60222515]\n",
            " [-0.77582797 -0.54761363 -0.6231699 ]]\n"
          ],
          "name": "stdout"
        }
      ]
    },
    {
      "cell_type": "markdown",
      "metadata": {
        "id": "WTzxKPgn2Ndb"
      },
      "source": [
        "DIAGONAL of a matrix can be found using .diagonal()\n",
        "\n",
        "TRACE of a matrix can be found using .trace()\n",
        "\n",
        "TRANSPOSE of a matrix can be found using .transpose()"
      ]
    },
    {
      "cell_type": "code",
      "metadata": {
        "colab": {
          "base_uri": "https://localhost:8080/"
        },
        "id": "9_S0zL-d2lFC",
        "outputId": "16ad5edb-0e5b-4767-aff5-2408d05fc319"
      },
      "source": [
        "mat=np.array([[2,4,5],[1,5,7],[9,4,2]])\n",
        "print('The matrix is\\n',mat)\n",
        "print('The diagonal of the matrix is',mat.diagonal())\n",
        "print('The trace of the matrix is',mat.trace())\n",
        "print('The tanspose of the matrix is\\n',mat.transpose())"
      ],
      "execution_count": 59,
      "outputs": [
        {
          "output_type": "stream",
          "text": [
            "The matrix is\n",
            " [[2 4 5]\n",
            " [1 5 7]\n",
            " [9 4 2]]\n",
            "The diagonal of the matrix is [2 5 2]\n",
            "The trace of the matrix is 9\n",
            "The tanspose of the matrix is\n",
            " [[2 1 9]\n",
            " [4 5 4]\n",
            " [5 7 2]]\n"
          ],
          "name": "stdout"
        }
      ]
    }
  ]
}